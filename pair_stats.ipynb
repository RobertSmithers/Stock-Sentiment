{
 "cells": [
  {
   "cell_type": "markdown",
   "id": "moving-three",
   "metadata": {},
   "source": [
    "# Pair Statistics\n",
    "This file attempts to gather correlations and ratios between many combinations of pairs of stocks. This is the first part in a two-part process of obtaining and processing data.\n",
    "\n",
    "After the correlated stocks are calculated (for a given offset), we choose the most correlated pair and gather sentiment analysis data (part two) on each of the chosen stocks."
   ]
  },
  {
   "cell_type": "markdown",
   "id": "straight-entrance",
   "metadata": {},
   "source": [
    "1. Gather Data\n",
    "2. Find Correlation"
   ]
  },
  {
   "cell_type": "code",
   "execution_count": 2,
   "id": "warming-cedar",
   "metadata": {},
   "outputs": [
    {
     "name": "stdout",
     "output_type": "stream",
     "text": [
      "Requirement already satisfied: yfinance in /opt/conda/lib/python3.8/site-packages (0.1.67)\n",
      "Collecting jugaad_data\n",
      "  Using cached jugaad_data-0.23-py3-none-any.whl (26 kB)\n",
      "Requirement already satisfied: beautifulsoup4==4.9.3 in /opt/conda/lib/python3.8/site-packages (from jugaad_data) (4.9.3)\n",
      "Requirement already satisfied: requests in /opt/conda/lib/python3.8/site-packages (from jugaad_data) (2.25.1)\n",
      "Requirement already satisfied: appdirs==1.4.4 in /opt/conda/lib/python3.8/site-packages (from jugaad_data) (1.4.4)\n",
      "Requirement already satisfied: click==7.1.2 in /opt/conda/lib/python3.8/site-packages (from jugaad_data) (7.1.2)\n",
      "Requirement already satisfied: soupsieve>1.2 in /opt/conda/lib/python3.8/site-packages (from beautifulsoup4==4.9.3->jugaad_data) (2.0.1)\n",
      "Requirement already satisfied: numpy>=1.15 in /opt/conda/lib/python3.8/site-packages (from yfinance) (1.19.5)\n",
      "Requirement already satisfied: multitasking>=0.0.7 in /opt/conda/lib/python3.8/site-packages (from yfinance) (0.0.10)\n",
      "Requirement already satisfied: lxml>=4.5.1 in /opt/conda/lib/python3.8/site-packages (from yfinance) (4.6.4)\n",
      "Requirement already satisfied: pandas>=0.24 in /opt/conda/lib/python3.8/site-packages (from yfinance) (1.1.5)\n",
      "Requirement already satisfied: python-dateutil>=2.7.3 in /opt/conda/lib/python3.8/site-packages (from pandas>=0.24->yfinance) (2.8.1)\n",
      "Requirement already satisfied: pytz>=2017.2 in /opt/conda/lib/python3.8/site-packages (from pandas>=0.24->yfinance) (2020.5)\n",
      "Requirement already satisfied: six>=1.5 in /opt/conda/lib/python3.8/site-packages (from python-dateutil>=2.7.3->pandas>=0.24->yfinance) (1.15.0)\n",
      "Requirement already satisfied: certifi>=2017.4.17 in /opt/conda/lib/python3.8/site-packages (from requests->jugaad_data) (2021.5.30)\n",
      "Requirement already satisfied: idna<3,>=2.5 in /opt/conda/lib/python3.8/site-packages (from requests->jugaad_data) (2.10)\n",
      "Requirement already satisfied: urllib3<1.27,>=1.21.1 in /opt/conda/lib/python3.8/site-packages (from requests->jugaad_data) (1.26.6)\n",
      "Requirement already satisfied: chardet<5,>=3.0.2 in /opt/conda/lib/python3.8/site-packages (from requests->jugaad_data) (4.0.0)\n",
      "Installing collected packages: jugaad-data\n",
      "\u001b[33m  WARNING: The script jdata is installed in '/home/jovyan/.local/bin' which is not on PATH.\n",
      "  Consider adding this directory to PATH or, if you prefer to suppress this warning, use --no-warn-script-location.\u001b[0m\n",
      "Successfully installed jugaad-data-0.23\n"
     ]
    }
   ],
   "source": [
    "# !pip install --user jugaad_data yfinance"
   ]
  },
  {
   "cell_type": "code",
   "execution_count": 1,
   "id": "severe-evans",
   "metadata": {},
   "outputs": [
    {
     "name": "stdout",
     "output_type": "stream",
     "text": [
      "Requirement already satisfied: yfinance in /home/jovyan/.local/lib/python3.8/site-packages (0.1.67)\n",
      "Requirement already satisfied: pandas>=0.24 in /opt/conda/lib/python3.8/site-packages (from yfinance) (1.1.5)\n",
      "Requirement already satisfied: lxml>=4.5.1 in /home/jovyan/.local/lib/python3.8/site-packages (from yfinance) (4.6.5)\n",
      "Requirement already satisfied: requests>=2.20 in /opt/conda/lib/python3.8/site-packages (from yfinance) (2.25.1)\n",
      "Requirement already satisfied: numpy>=1.15 in /opt/conda/lib/python3.8/site-packages (from yfinance) (1.19.5)\n",
      "Requirement already satisfied: multitasking>=0.0.7 in /home/jovyan/.local/lib/python3.8/site-packages (from yfinance) (0.0.10)\n",
      "Requirement already satisfied: python-dateutil>=2.7.3 in /opt/conda/lib/python3.8/site-packages (from pandas>=0.24->yfinance) (2.8.1)\n",
      "Requirement already satisfied: pytz>=2017.2 in /opt/conda/lib/python3.8/site-packages (from pandas>=0.24->yfinance) (2020.5)\n",
      "Requirement already satisfied: six>=1.5 in /opt/conda/lib/python3.8/site-packages (from python-dateutil>=2.7.3->pandas>=0.24->yfinance) (1.15.0)\n",
      "Requirement already satisfied: certifi>=2017.4.17 in /opt/conda/lib/python3.8/site-packages (from requests>=2.20->yfinance) (2021.5.30)\n",
      "Requirement already satisfied: idna<3,>=2.5 in /opt/conda/lib/python3.8/site-packages (from requests>=2.20->yfinance) (2.10)\n",
      "Requirement already satisfied: chardet<5,>=3.0.2 in /opt/conda/lib/python3.8/site-packages (from requests>=2.20->yfinance) (4.0.0)\n",
      "Requirement already satisfied: urllib3<1.27,>=1.21.1 in /opt/conda/lib/python3.8/site-packages (from requests>=2.20->yfinance) (1.26.6)\n"
     ]
    }
   ],
   "source": [
    "!pip install --user yfinance"
   ]
  },
  {
   "cell_type": "code",
   "execution_count": 2,
   "id": "beginning-hurricane",
   "metadata": {},
   "outputs": [],
   "source": [
    "from datetime import date\n",
    "# from jugaad_data import nse\n",
    "import pandas as pd\n",
    "import numpy as np\n",
    "import matplotlib.pyplot as plt\n",
    "\n",
    "from tqdm.notebook import tqdm\n",
    "import csv\n",
    "import yfinance\n",
    "import seaborn as sbn"
   ]
  },
  {
   "cell_type": "markdown",
   "id": "informed-visit",
   "metadata": {},
   "source": [
    "## 1. Gather Data"
   ]
  },
  {
   "cell_type": "markdown",
   "id": "played-thomson",
   "metadata": {},
   "source": [
    "#### Get stock tickers"
   ]
  },
  {
   "cell_type": "code",
   "execution_count": 4,
   "id": "enormous-aberdeen",
   "metadata": {},
   "outputs": [],
   "source": [
    "# Futures\n",
    "# '''\n",
    "# # Gather all symbols from CSV\n",
    "# with open('fo_mktlots.csv') as fp:\n",
    "#     reader = csv.reader(fp)\n",
    "#     rows = list(reader)\n",
    "#     # stocks start from 5th row and symbols are in 2nd column\n",
    "#     fno_stocks = [row[1].lstrip().rstrip() for row in rows[5:]]\n",
    "    \n",
    "# print(\"Stocks in F&O: {}\".format(len(fno_stocks)))\n",
    "# '''"
   ]
  },
  {
   "cell_type": "code",
   "execution_count": 21,
   "id": "residential-chicken",
   "metadata": {},
   "outputs": [
    {
     "data": {
      "application/vnd.jupyter.widget-view+json": {
       "model_id": "b59f92c1714841dfb9c5a326f30b9fea",
       "version_major": 2,
       "version_minor": 0
      },
      "text/plain": [
       "  0%|          | 0/6552 [00:00<?, ?it/s]"
      ]
     },
     "metadata": {},
     "output_type": "display_data"
    },
    {
     "name": "stdout",
     "output_type": "stream",
     "text": [
      "Stocks in our NYSE: 6515\n"
     ]
    }
   ],
   "source": [
    "# Stocks from NYSE\n",
    "\n",
    "# Gather all symbols from CSV\n",
    "stocks = pd.DataFrame(columns=['Ticker', 'Close', 'Market Cap'])\n",
    "with open('stock_symbols.csv') as f:\n",
    "    reader = csv.reader(f)\n",
    "    rows = list(reader)\n",
    "    \n",
    "    for i, row in enumerate(tqdm(rows)):\n",
    "        if i == 0 or row[2] == 'n/a':\n",
    "            continue\n",
    "        try:\n",
    "            row = pd.Series([row[0].lstrip().rstrip(), float(row[2]), row[3]], index=stocks.columns)\n",
    "            stocks = stocks.append(row, ignore_index=True)\n",
    "        except:\n",
    "            print('Error with ticker:', row[0])\n",
    "    \n",
    "print(\"Stocks in our NYSE: {}\".format(len(stocks)))"
   ]
  },
  {
   "cell_type": "code",
   "execution_count": 22,
   "id": "recovered-underwear",
   "metadata": {},
   "outputs": [
    {
     "data": {
      "text/html": [
       "<div>\n",
       "<style scoped>\n",
       "    .dataframe tbody tr th:only-of-type {\n",
       "        vertical-align: middle;\n",
       "    }\n",
       "\n",
       "    .dataframe tbody tr th {\n",
       "        vertical-align: top;\n",
       "    }\n",
       "\n",
       "    .dataframe thead th {\n",
       "        text-align: right;\n",
       "    }\n",
       "</style>\n",
       "<table border=\"1\" class=\"dataframe\">\n",
       "  <thead>\n",
       "    <tr style=\"text-align: right;\">\n",
       "      <th></th>\n",
       "      <th>Ticker</th>\n",
       "      <th>Close</th>\n",
       "      <th>Market Cap</th>\n",
       "    </tr>\n",
       "  </thead>\n",
       "  <tbody>\n",
       "    <tr>\n",
       "      <th>0</th>\n",
       "      <td>AAPL</td>\n",
       "      <td>565.25</td>\n",
       "      <td>$527,022,142,500</td>\n",
       "    </tr>\n",
       "    <tr>\n",
       "      <th>1</th>\n",
       "      <td>XOM</td>\n",
       "      <td>84.57</td>\n",
       "      <td>$397,687,211,340</td>\n",
       "    </tr>\n",
       "    <tr>\n",
       "      <th>2</th>\n",
       "      <td>MSFT</td>\n",
       "      <td>30.98</td>\n",
       "      <td>$259,946,085,580</td>\n",
       "    </tr>\n",
       "    <tr>\n",
       "      <th>3</th>\n",
       "      <td>BAC^I</td>\n",
       "      <td>24.79</td>\n",
       "      <td>$248,692,932,940</td>\n",
       "    </tr>\n",
       "    <tr>\n",
       "      <th>4</th>\n",
       "      <td>IBM</td>\n",
       "      <td>204.99</td>\n",
       "      <td>$236,452,685,160</td>\n",
       "    </tr>\n",
       "  </tbody>\n",
       "</table>\n",
       "</div>"
      ],
      "text/plain": [
       "  Ticker   Close        Market Cap\n",
       "0   AAPL  565.25  $527,022,142,500\n",
       "1    XOM   84.57  $397,687,211,340\n",
       "2   MSFT   30.98  $259,946,085,580\n",
       "3  BAC^I   24.79  $248,692,932,940\n",
       "4    IBM  204.99  $236,452,685,160"
      ]
     },
     "execution_count": 22,
     "metadata": {},
     "output_type": "execute_result"
    }
   ],
   "source": [
    "stocks.head()"
   ]
  },
  {
   "cell_type": "code",
   "execution_count": 23,
   "id": "indoor-shame",
   "metadata": {},
   "outputs": [],
   "source": [
    "# Get Market Cap as a float instead of a currency string\n",
    "stocks['Market Cap'] = stocks['Market Cap'].replace('\\$|,', '', regex=True).astype(float)\n",
    "\n",
    "# Clean ticker symbols\n",
    "stocks['Ticker'] = stocks['Ticker'].replace('\\^I|\\^L|\\^|\\/.+', '', regex=True)"
   ]
  },
  {
   "cell_type": "markdown",
   "id": "uniform-neutral",
   "metadata": {},
   "source": [
    "#### Filter stocks to only show certain (at least somewhat reliable companies)"
   ]
  },
  {
   "cell_type": "code",
   "execution_count": 24,
   "id": "bottom-broad",
   "metadata": {},
   "outputs": [],
   "source": [
    "# Change these at will\n",
    "MIN_MARKET_CAP = 1000000\n",
    "MIN_CLOSE = 50\n",
    "MIN_VOLUME = 100000"
   ]
  },
  {
   "cell_type": "code",
   "execution_count": 25,
   "id": "unable-character",
   "metadata": {},
   "outputs": [],
   "source": [
    "stocks = stocks[(stocks['Market Cap'] > MIN_MARKET_CAP) & (stocks['Close'] > MIN_CLOSE)]\n",
    "stocks = stocks.reset_index(drop=True)"
   ]
  },
  {
   "cell_type": "code",
   "execution_count": 26,
   "id": "subsequent-ready",
   "metadata": {},
   "outputs": [
    {
     "name": "stdout",
     "output_type": "stream",
     "text": [
      "Down to 658 stocks in our NYSE\n"
     ]
    }
   ],
   "source": [
    "print(\"Down to {} stocks in our NYSE\".format(len(stocks)))"
   ]
  },
  {
   "cell_type": "markdown",
   "id": "colonial-oklahoma",
   "metadata": {},
   "source": [
    "#### Download stock data for each ticker"
   ]
  },
  {
   "cell_type": "code",
   "execution_count": 143,
   "id": "grateful-glossary",
   "metadata": {},
   "outputs": [],
   "source": [
    "# The delisted warnings are sadly something you will just have to deal with\n",
    "# yfinance history is multithreaded, so the exceptions are in different threads. I could change threads=False, but then it is much slower.\n",
    "def get_stock_data(stocks, from_date=date(2021,1,1), to_date=date(2021,7,10)):\n",
    "    dfs = []\n",
    "\n",
    "    for ticker in tqdm(stocks['Ticker']):\n",
    "#         try:\n",
    "        ticker = ticker.replace(\"/\", \"-\").replace(\"^\", \"-\")\n",
    "        df = yfinance.Ticker(ticker)\n",
    "#         info = df.info\n",
    "        \n",
    "#         if info['marketCap'] == None or info['marketCap'] == 0 or info['regularMarketVolume'] < MIN_VOLUME:\n",
    "#             print(info)\n",
    "#             continue\n",
    "            \n",
    "        df = df.history(start=from_date, end=to_date)\n",
    "        if df is None or len(df) == 0:\n",
    "             continue\n",
    "        dfs.append((ticker, df))\n",
    "#         except:\n",
    "#             print(\"*** Issue retrieving stock data for {}\".format(ticker))\n",
    "\n",
    "    return dfs"
   ]
  },
  {
   "cell_type": "code",
   "execution_count": 245,
   "id": "previous-wilson",
   "metadata": {},
   "outputs": [
    {
     "data": {
      "application/vnd.jupyter.widget-view+json": {
       "model_id": "e789f81fe46f45caba1b7c7b676da586",
       "version_major": 2,
       "version_minor": 0
      },
      "text/plain": [
       "  0%|          | 0/658 [00:00<?, ?it/s]"
      ]
     },
     "metadata": {},
     "output_type": "display_data"
    },
    {
     "name": "stdout",
     "output_type": "stream",
     "text": [
      "- UTX: No data found, symbol may be delisted\n",
      "- PCLN: No data found for this date range, symbol may be delisted\n",
      "- APC: No data found, symbol may be delisted\n",
      "- PX: Data doesn't exist for startDate = 631152000, endDate = 1633046400\n",
      "- CELG: No data found, symbol may be delisted\n",
      "- AGN: No data found, symbol may be delisted\n",
      "- TYC: No data found for this date range, symbol may be delisted\n",
      "- TWC: No data found for this date range, symbol may be delisted\n",
      "- WLP: No data found for this date range, symbol may be delisted\n",
      "- COH: No data found for this date range, symbol may be delisted\n",
      "- KMP: No data found for this date range, symbol may be delisted\n",
      "- SHPGY: No data found for this date range, symbol may be delisted\n",
      "- RTN: No data found, symbol may be delisted\n",
      "- LO: No data found for this date range, symbol may be delisted\n",
      "- MJN: No data found for this date range, symbol may be delisted\n",
      "- WPPGY: No data found for this date range, symbol may be delisted\n",
      "- NBL: No data found, symbol may be delisted\n",
      "- WFM: No data found for this date range, symbol may be delisted\n",
      "- ALXN: No data found, symbol may be delisted\n",
      "- PGN: No data found for this date range, symbol may be delisted\n",
      "- VRX: No data found for this date range, symbol may be delisted\n",
      "- LTD: No data found for this date range, symbol may be delisted\n",
      "- AGU: No data found for this date range, symbol may be delisted\n",
      "- ESV: No data found, symbol may be delisted\n",
      "- HCN: None\n",
      "- RHT: No data found, symbol may be delisted\n",
      "- ZMH: None\n",
      "- CXO: No data found, symbol may be delisted\n",
      "- CBE: None\n",
      "- LMCA: None\n",
      "- WPI: None\n",
      "- DO: No data found, symbol may be delisted\n",
      "- THI: None\n",
      "- BCR: None\n",
      "- TIF: No data found, symbol may be delisted\n",
      "- SIAL: None\n",
      "- FDO: None\n",
      "- RAX: None\n",
      "- OKS: None\n",
      "- WYN: None\n",
      "- BF: None\n",
      "- KMR: None\n",
      "- VAR: No data found, symbol may be delisted\n",
      "- JOY: None\n",
      "- ARG: None\n",
      "- PETM: None\n",
      "- IHS: Data doesn't exist for startDate = 631152000, endDate = 1633046400\n",
      "- BTE: None\n",
      "- MWE: None\n",
      "- SXCI: None\n",
      "- XEC: No data found, symbol may be delisted\n",
      "- CHL: No data found, symbol may be delisted\n",
      "- BPL: No data found, symbol may be delisted\n",
      "- LNKD: None\n",
      "- PNRA: None\n",
      "- PRE: None\n",
      "- BF: None\n",
      "- WTW: No data found, symbol may be delisted\n",
      "- TCO: No data found, symbol may be delisted\n",
      "- MCRS: None\n",
      "- CHSI: None\n",
      "- GRA: No data found, symbol may be delisted\n",
      "- VNOA: No data found, symbol may be delisted\n",
      "- CPO: None\n",
      "- TEG: None\n",
      "- ROC: None\n",
      "- HUB: None\n",
      "- WLT: None\n",
      "- BRE: None\n",
      "- RAH: None\n",
      "- SPW: No data found for this date range, symbol may be delisted\n",
      "- WBC: No data found, symbol may be delisted\n",
      "- ITC: None\n",
      "- TNB: None\n",
      "- SINA: No data found, symbol may be delisted\n",
      "- CNQR: None\n",
      "- CH: None\n",
      "- GDI: No data found, symbol may be delisted\n",
      "- HME: None\n",
      "- AGP: None\n",
      "- MDVN: None\n",
      "- CYN: Data doesn't exist for startDate = 631152000, endDate = 1633046400\n",
      "- IOC: None\n",
      "- MLU: None\n",
      "- RBC: No data found, symbol may be delisted\n",
      "- WCG: No data found, symbol may be delisted\n",
      "- TFM: None\n",
      "- EVEP: None\n",
      "- WPO: None\n",
      "- DTG: Data doesn't exist for startDate = 631152000, endDate = 1633046400\n",
      "- AXE: No data found, symbol may be delisted\n",
      "- MLNX: No data found, symbol may be delisted\n",
      "- WXS: None\n",
      "- GWR: No data found, symbol may be delisted\n",
      "- LUFK: None\n",
      "- ABVT: None\n",
      "- TECD: No data found, symbol may be delisted\n",
      "- ULTI: No data found, symbol may be delisted\n",
      "- ESL: No data found, symbol may be delisted\n",
      "- SYT: None\n",
      "- CKH: No data found, symbol may be delisted\n",
      "- CRR: No data found, symbol may be delisted\n",
      "- DSW: No data found, symbol may be delisted\n",
      "- ATK: None\n",
      "- FIRE: None\n",
      "- HITT: None\n",
      "- CYMI: None\n",
      "- ABCO: None\n",
      "- BWLD: None\n",
      "- SSS: None\n",
      "- MWIV: None\n",
      "- AIRM: None\n",
      "- HTWR: None\n",
      "- PFCB: None\n",
      "- PPLU: No data found, symbol may be delisted\n",
      "- CHG: None\n",
      "- PPLW: No data found, symbol may be delisted\n",
      "- LMCB: None\n",
      "- WLLA: No data found, symbol may be delisted\n",
      "- PEET: None\n",
      "- CWEI: None\n",
      "- HCN: None\n",
      "- KEYG: No data found, symbol may be delisted\n",
      "- EOC: None\n",
      "- ASCMA: No data found, symbol may be delisted\n",
      "- GTU: None\n",
      "- BTH: None\n",
      "- SWU: None\n",
      "- OYOG: None\n",
      "- ASEI: None\n",
      "- HUB: None\n",
      "- LDR: None\n",
      "- ALRB: No data found, symbol may be delisted\n",
      "- PVD: None\n",
      "- GXPF: No data found, symbol may be delisted\n",
      "- KYO: None\n",
      "- CHKD: No data found, symbol may be delisted\n",
      "- ARDNA: None\n",
      "- CHA: No data found, symbol may be delisted\n",
      "- ISRL: No data found, symbol may be delisted\n",
      "- DDB: None\n",
      "- GNI: None\n",
      "- BEAMA: No data found, symbol may be delisted\n",
      "- APAD: None\n",
      "- DDA: None\n",
      "- SPGJ: No data found, symbol may be delisted\n",
      "- PPSA: None\n",
      "- UBPC: No data found, symbol may be delisted\n",
      "- CMSB: None\n",
      "- NMKB: No data found, symbol may be delisted\n",
      "- PEA: No data found, symbol may be delisted\n",
      "- PEC: None\n",
      "- NMKC: No data found, symbol may be delisted\n",
      "- SCLP: None\n",
      "- SCTR: None\n",
      "- SCOG: None\n",
      "- PPW: None\n",
      "- SGGG: None\n",
      "- VELE: No data found, symbol may be delisted\n",
      "- GXPD: No data found, symbol may be delisted\n",
      "- AXJS: None\n",
      "- EGRW: None\n",
      "- EMDI: None\n",
      "- WIS: None\n",
      "- GXPE: No data found, symbol may be delisted\n",
      "- GXPA: No data found, symbol may be delisted\n",
      "- HLB: None\n",
      "- HNZ: None\n",
      "- EEME: None\n",
      "- EEML: No data found, symbol may be delisted\n",
      "- GMT: None\n"
     ]
    }
   ],
   "source": [
    "dfs = get_stock_data(stocks, from_date=date(1990,1,1), to_date=date(2021,10,1))"
   ]
  },
  {
   "cell_type": "code",
   "execution_count": 252,
   "id": "damaged-green",
   "metadata": {},
   "outputs": [
    {
     "name": "stdout",
     "output_type": "stream",
     "text": [
      "Num companies = 487\n",
      "(Dates, features) = (7994, 7)\n",
      "Company: AAPL\n"
     ]
    },
    {
     "data": {
      "text/html": [
       "<div>\n",
       "<style scoped>\n",
       "    .dataframe tbody tr th:only-of-type {\n",
       "        vertical-align: middle;\n",
       "    }\n",
       "\n",
       "    .dataframe tbody tr th {\n",
       "        vertical-align: top;\n",
       "    }\n",
       "\n",
       "    .dataframe thead th {\n",
       "        text-align: right;\n",
       "    }\n",
       "</style>\n",
       "<table border=\"1\" class=\"dataframe\">\n",
       "  <thead>\n",
       "    <tr style=\"text-align: right;\">\n",
       "      <th></th>\n",
       "      <th>Open</th>\n",
       "      <th>High</th>\n",
       "      <th>Low</th>\n",
       "      <th>Close</th>\n",
       "      <th>Volume</th>\n",
       "      <th>Dividends</th>\n",
       "      <th>Stock Splits</th>\n",
       "    </tr>\n",
       "    <tr>\n",
       "      <th>Date</th>\n",
       "      <th></th>\n",
       "      <th></th>\n",
       "      <th></th>\n",
       "      <th></th>\n",
       "      <th></th>\n",
       "      <th></th>\n",
       "      <th></th>\n",
       "    </tr>\n",
       "  </thead>\n",
       "  <tbody>\n",
       "    <tr>\n",
       "      <th>1990-01-02</th>\n",
       "      <td>1.247066</td>\n",
       "      <td>1.255435</td>\n",
       "      <td>1.171740</td>\n",
       "      <td>1.247066</td>\n",
       "      <td>45799600</td>\n",
       "      <td>0.0</td>\n",
       "      <td>0.0</td>\n",
       "    </tr>\n",
       "    <tr>\n",
       "      <th>1990-01-03</th>\n",
       "      <td>1.255435</td>\n",
       "      <td>1.272174</td>\n",
       "      <td>1.255435</td>\n",
       "      <td>1.255435</td>\n",
       "      <td>51998800</td>\n",
       "      <td>0.0</td>\n",
       "      <td>0.0</td>\n",
       "    </tr>\n",
       "    <tr>\n",
       "      <th>1990-01-04</th>\n",
       "      <td>1.259626</td>\n",
       "      <td>1.297283</td>\n",
       "      <td>1.247066</td>\n",
       "      <td>1.259626</td>\n",
       "      <td>55378400</td>\n",
       "      <td>0.0</td>\n",
       "      <td>0.0</td>\n",
       "    </tr>\n",
       "    <tr>\n",
       "      <th>1990-01-05</th>\n",
       "      <td>1.263805</td>\n",
       "      <td>1.280544</td>\n",
       "      <td>1.238696</td>\n",
       "      <td>1.263805</td>\n",
       "      <td>30828000</td>\n",
       "      <td>0.0</td>\n",
       "      <td>0.0</td>\n",
       "    </tr>\n",
       "    <tr>\n",
       "      <th>1990-01-08</th>\n",
       "      <td>1.272174</td>\n",
       "      <td>1.272174</td>\n",
       "      <td>1.238696</td>\n",
       "      <td>1.272174</td>\n",
       "      <td>25393200</td>\n",
       "      <td>0.0</td>\n",
       "      <td>0.0</td>\n",
       "    </tr>\n",
       "  </tbody>\n",
       "</table>\n",
       "</div>"
      ],
      "text/plain": [
       "                Open      High       Low     Close    Volume  Dividends  \\\n",
       "Date                                                                      \n",
       "1990-01-02  1.247066  1.255435  1.171740  1.247066  45799600        0.0   \n",
       "1990-01-03  1.255435  1.272174  1.255435  1.255435  51998800        0.0   \n",
       "1990-01-04  1.259626  1.297283  1.247066  1.259626  55378400        0.0   \n",
       "1990-01-05  1.263805  1.280544  1.238696  1.263805  30828000        0.0   \n",
       "1990-01-08  1.272174  1.272174  1.238696  1.272174  25393200        0.0   \n",
       "\n",
       "            Stock Splits  \n",
       "Date                      \n",
       "1990-01-02           0.0  \n",
       "1990-01-03           0.0  \n",
       "1990-01-04           0.0  \n",
       "1990-01-05           0.0  \n",
       "1990-01-08           0.0  "
      ]
     },
     "execution_count": 252,
     "metadata": {},
     "output_type": "execute_result"
    }
   ],
   "source": [
    "print(\"Num companies =\", len(dfs))\n",
    "print(\"(Dates, features) =\",dfs[0][1].shape)\n",
    "print(\"Company:\", dfs[0][0])\n",
    "dfs[0][1].head()"
   ]
  },
  {
   "cell_type": "markdown",
   "id": "polyphonic-johnston",
   "metadata": {},
   "source": [
    "Again, filter down our data. This time, we only want to look at stocks that have a \"decent\" volume."
   ]
  },
  {
   "cell_type": "code",
   "execution_count": 253,
   "id": "social-number",
   "metadata": {},
   "outputs": [],
   "source": [
    "MIN_AVG_VOLUME = 100000\n",
    "def valid_stock(stock_data):\n",
    "    return True if stock_data[\"Volume\"].mean() > MIN_AVG_VOLUME else False"
   ]
  },
  {
   "cell_type": "code",
   "execution_count": 254,
   "id": "conscious-toronto",
   "metadata": {},
   "outputs": [
    {
     "data": {
      "text/plain": [
       "0      AAPL\n",
       "1       XOM\n",
       "2       IBM\n",
       "3       CVX\n",
       "4       WMT\n",
       "       ... \n",
       "653    GNMA\n",
       "654     FMS\n",
       "655     LNC\n",
       "656     BMY\n",
       "657     GMT\n",
       "Name: Ticker, Length: 658, dtype: object"
      ]
     },
     "execution_count": 254,
     "metadata": {},
     "output_type": "execute_result"
    }
   ],
   "source": [
    "stocks['Ticker']"
   ]
  },
  {
   "cell_type": "code",
   "execution_count": 255,
   "id": "royal-italian",
   "metadata": {},
   "outputs": [
    {
     "name": "stdout",
     "output_type": "stream",
     "text": [
      "(7994, 402)\n",
      "                AAPL       XOM        IBM       CVX       WMT       JNJ  \\\n",
      "Date                                                                      \n",
      "1990-01-02  1.247066  4.275313  11.679734  5.267715  3.719669  3.580161   \n",
      "1990-01-03  1.255435  4.232561  11.784039  5.181983  3.719669  3.595133   \n",
      "1990-01-04  1.259626  4.189808  11.918095  5.115304  3.699907  3.602595   \n",
      "1990-01-05  1.263805  4.168434  11.888297  5.039100  3.660438  3.565238   \n",
      "1990-01-08  1.272174  4.232561  11.962811  5.086728  3.709753  3.625029   \n",
      "\n",
      "                  PG        KO  GOOG  PM  ...  BIB  PED  PEB       PBI  VGSH  \\\n",
      "Date                                      ...                                  \n",
      "1990-01-02  4.030787  2.336064   NaN NaN  ...  NaN  NaN  NaN  3.251693   NaN   \n",
      "1990-01-03  4.023651  2.302378   NaN NaN  ...  NaN  NaN  NaN  3.251693   NaN   \n",
      "1990-01-04  3.945023  2.291140   NaN NaN  ...  NaN  NaN  NaN  3.251693   NaN   \n",
      "1990-01-05  3.873579  2.272429   NaN NaN  ...  NaN  NaN  NaN  3.268627   NaN   \n",
      "1990-01-08  3.945023  2.321091   NaN NaN  ...  NaN  NaN  NaN  3.251693   NaN   \n",
      "\n",
      "            VGLT  VGIT  VTWO       LNC       BMY  \n",
      "Date                                              \n",
      "1990-01-02   NaN   NaN   NaN  5.645843  4.255086  \n",
      "1990-01-03   NaN   NaN   NaN  5.668986  4.339065  \n",
      "1990-01-04   NaN   NaN   NaN  5.601181  4.311072  \n",
      "1990-01-05   NaN   NaN   NaN  5.495920  4.180433  \n",
      "1990-01-08   NaN   NaN   NaN  5.531018  4.208428  \n",
      "\n",
      "[5 rows x 402 columns]\n"
     ]
    }
   ],
   "source": [
    "# Combine data into one giant dataframe\n",
    "all_stock_df = pd.DataFrame()\n",
    "for i, (ticker, df) in enumerate(dfs):\n",
    "    \n",
    "    # Since we couldn't get data for many companies, fill in those removed rows by updating line numbers\n",
    "    if valid_stock(df):\n",
    "        all_stock_df[ticker] = df['Close']\n",
    "    \n",
    "print(all_stock_df.shape)\n",
    "print(all_stock_df.head())"
   ]
  },
  {
   "cell_type": "code",
   "execution_count": 256,
   "id": "waiting-rebecca",
   "metadata": {},
   "outputs": [
    {
     "data": {
      "text/plain": [
       "Date\n",
       "1990-01-02      1.247066\n",
       "1990-01-03      1.255435\n",
       "1990-01-04      1.259626\n",
       "1990-01-05      1.263805\n",
       "1990-01-08      1.272174\n",
       "                 ...    \n",
       "2021-09-24    146.705887\n",
       "2021-09-27    145.158142\n",
       "2021-09-28    141.703186\n",
       "2021-09-29    142.621857\n",
       "2021-09-30    141.293793\n",
       "Name: AAPL, Length: 7994, dtype: float64"
      ]
     },
     "execution_count": 256,
     "metadata": {},
     "output_type": "execute_result"
    }
   ],
   "source": [
    "all_stock_df['AAPL']"
   ]
  },
  {
   "cell_type": "code",
   "execution_count": 257,
   "id": "isolated-myrtle",
   "metadata": {},
   "outputs": [],
   "source": [
    "# Save our list of stock data\n",
    "all_stock_df.to_csv(\"nyse_raw_data.csv\", index=True)"
   ]
  },
  {
   "cell_type": "code",
   "execution_count": 3,
   "id": "invalid-novelty",
   "metadata": {},
   "outputs": [],
   "source": [
    "all_stock_df = pd.read_csv(\"nyse_raw_data.csv\")"
   ]
  },
  {
   "cell_type": "markdown",
   "id": "unavailable-helena",
   "metadata": {},
   "source": [
    "## Find Correlation"
   ]
  },
  {
   "cell_type": "markdown",
   "id": "suited-tennis",
   "metadata": {},
   "source": [
    "Here is where we get a little bit creative. We want to run a correlation (corr()) on the pandas dataframe, but we want to check this out for select stocks with some sort of offset relative to all other stocks. \n",
    "\n",
    "What this means is that we want to find some stock that is highly or negatively correlated with another stock, but these correlations happen at a later point in time (allowing our program to give enough of a warning/heads up to buy/sell a stock)."
   ]
  },
  {
   "cell_type": "code",
   "execution_count": 258,
   "id": "comic-yemen",
   "metadata": {},
   "outputs": [],
   "source": [
    "offset_data = data.copy()\n",
    "offset_data[ticker] = offset_data[ticker].shift(periods=offset)\n",
    "\n",
    "# Ticker's column should move up by offset. The best way to think of this is that if today is day t, we want to find a correlation with prices from other stocks at time t-offset\n",
    "stock_corr = offset_data.corr()"
   ]
  },
  {
   "cell_type": "code",
   "execution_count": 259,
   "id": "conceptual-acting",
   "metadata": {},
   "outputs": [
    {
     "name": "stdout",
     "output_type": "stream",
     "text": [
      "Original\n",
      " AAPL    1.000000\n",
      "XOM     0.762116\n",
      "IBM     0.766655\n",
      "CVX     0.897555\n",
      "WMT     0.825682\n",
      "Name: AAPL, dtype: float64\n",
      "Offset\n",
      " AAPL    1.000000\n",
      "XOM     0.761047\n",
      "IBM     0.766209\n",
      "CVX     0.896933\n",
      "WMT     0.825727\n",
      "Name: AAPL, dtype: float64\n",
      "\n",
      "Diff\n",
      " AAPL    0.000000\n",
      "XOM    -0.001068\n",
      "IBM    -0.000446\n",
      "CVX    -0.000622\n",
      "WMT     0.000046\n",
      "Name: AAPL, dtype: float64\n"
     ]
    }
   ],
   "source": [
    "# print(stock_corr.head())\n",
    "print(\"Original\\n\", all_stock_df.corr().head()['AAPL'])\n",
    "print(\"Offset\\n\", stock_corr.head()['AAPL'])\n",
    "\n",
    "print(\"\\nDiff\\n\", stock_corr.head()['AAPL'] - all_stock_df.corr().head()['AAPL'])"
   ]
  },
  {
   "cell_type": "markdown",
   "id": "union-guidance",
   "metadata": {},
   "source": [
    "Clearly with large amounts of data, minute shifts/offsets will not cause a big change in correlation. Howerver, we want our correlations to factor in the day by day changes. Hence, we need to write our own correlation function"
   ]
  },
  {
   "cell_type": "code",
   "execution_count": 471,
   "id": "banner-means",
   "metadata": {},
   "outputs": [],
   "source": [
    "def get_corr(ticker, data, offset=3, window_size=7):\n",
    "    '''\n",
    "    Input:\n",
    "        ticker - Str\n",
    "        data - N x N matrix\n",
    "        with_offset - int number of days to shift\n",
    "        window_size - how many days grouped together for each correlation calculation\n",
    "        \n",
    "    Output:\n",
    "        offset_data - N x N (with offset # rows NaN)\n",
    "        offset_corr - 1 x (N-offset)\n",
    "    \n",
    "    Takes price data from various companies at different days and offsets it by 'offset' # of rows/days.\n",
    "    It then runs a corr on that data, returning how correlated ticker is with all other tickers given an offset\n",
    "    \n",
    "    Returns the offset data matrix, offset correlation matrix\n",
    "    '''\n",
    "    \n",
    "    assert(ticker in data and len(data[ticker]) > 0)\n",
    "    offset_data = data.copy()\n",
    "    \n",
    "    # Ticker's column should move up by offset. The best way to think of this is that if today is day t, we want to find a correlation with prices from other stocks at time t-offset\n",
    "    offset_data[ticker] = offset_data[ticker].shift(periods=offset)\n",
    "    \n",
    "    offset_corrs = pd.DataFrame(columns=data.columns)\n",
    "    for i in range(data.shape[0] - window_size):\n",
    "        curr = offset_data.iloc[i:i+window_size]\n",
    "        offset_corrs.loc[i] = curr.corr()[ticker]\n",
    "        \n",
    "    # Get the mean weekly correlation for each column (ignore NaN's = true by default)\n",
    "    return offset_data, offset_corrs.mean(axis=0)"
   ]
  },
  {
   "cell_type": "markdown",
   "id": "strong-feelings",
   "metadata": {},
   "source": [
    "#### Now do it again for every stock at different offsets"
   ]
  },
  {
   "cell_type": "code",
   "execution_count": 167,
   "id": "collect-creature",
   "metadata": {},
   "outputs": [],
   "source": [
    "# max_lag = 10\n",
    "# lagged_correlation = pd.DataFrame.from_dict(\n",
    "#     {x: [all_stock_df['BMO'].corr(all_stock_df[x].shift(-t)) for t in range(max_lag)] for x in all_stock_df.columns}\n",
    "# )"
   ]
  },
  {
   "cell_type": "code",
   "execution_count": 168,
   "id": "aging-gravity",
   "metadata": {},
   "outputs": [
    {
     "data": {
      "text/html": [
       "<div>\n",
       "<style scoped>\n",
       "    .dataframe tbody tr th:only-of-type {\n",
       "        vertical-align: middle;\n",
       "    }\n",
       "\n",
       "    .dataframe tbody tr th {\n",
       "        vertical-align: top;\n",
       "    }\n",
       "\n",
       "    .dataframe thead th {\n",
       "        text-align: right;\n",
       "    }\n",
       "</style>\n",
       "<table border=\"1\" class=\"dataframe\">\n",
       "  <thead>\n",
       "    <tr style=\"text-align: right;\">\n",
       "      <th></th>\n",
       "      <th>AAPL</th>\n",
       "      <th>XOM</th>\n",
       "      <th>IBM</th>\n",
       "      <th>CVX</th>\n",
       "      <th>WMT</th>\n",
       "      <th>JNJ</th>\n",
       "      <th>PG</th>\n",
       "      <th>KO</th>\n",
       "      <th>GOOG</th>\n",
       "      <th>PM</th>\n",
       "      <th>...</th>\n",
       "      <th>PEB</th>\n",
       "      <th>PBI</th>\n",
       "      <th>VGSH</th>\n",
       "      <th>VGLT</th>\n",
       "      <th>VONG</th>\n",
       "      <th>VGIT</th>\n",
       "      <th>VTWO</th>\n",
       "      <th>VONV</th>\n",
       "      <th>LNC</th>\n",
       "      <th>BMY</th>\n",
       "    </tr>\n",
       "  </thead>\n",
       "  <tbody>\n",
       "    <tr>\n",
       "      <th>0</th>\n",
       "      <td>-0.063153</td>\n",
       "      <td>0.891339</td>\n",
       "      <td>0.936141</td>\n",
       "      <td>0.822509</td>\n",
       "      <td>-0.090444</td>\n",
       "      <td>0.619970</td>\n",
       "      <td>0.541191</td>\n",
       "      <td>0.930849</td>\n",
       "      <td>0.907249</td>\n",
       "      <td>0.960726</td>\n",
       "      <td>...</td>\n",
       "      <td>0.557635</td>\n",
       "      <td>0.036532</td>\n",
       "      <td>-0.123869</td>\n",
       "      <td>-0.533141</td>\n",
       "      <td>0.657700</td>\n",
       "      <td>-0.568953</td>\n",
       "      <td>0.617136</td>\n",
       "      <td>0.955027</td>\n",
       "      <td>0.898562</td>\n",
       "      <td>0.717602</td>\n",
       "    </tr>\n",
       "    <tr>\n",
       "      <th>1</th>\n",
       "      <td>-0.054730</td>\n",
       "      <td>0.885233</td>\n",
       "      <td>0.931998</td>\n",
       "      <td>0.809663</td>\n",
       "      <td>-0.074247</td>\n",
       "      <td>0.606487</td>\n",
       "      <td>0.555442</td>\n",
       "      <td>0.932963</td>\n",
       "      <td>0.905144</td>\n",
       "      <td>0.956690</td>\n",
       "      <td>...</td>\n",
       "      <td>0.537890</td>\n",
       "      <td>0.008744</td>\n",
       "      <td>-0.119888</td>\n",
       "      <td>-0.507209</td>\n",
       "      <td>0.656598</td>\n",
       "      <td>-0.552496</td>\n",
       "      <td>0.602434</td>\n",
       "      <td>0.946726</td>\n",
       "      <td>0.883468</td>\n",
       "      <td>0.719018</td>\n",
       "    </tr>\n",
       "    <tr>\n",
       "      <th>2</th>\n",
       "      <td>-0.033214</td>\n",
       "      <td>0.878256</td>\n",
       "      <td>0.928754</td>\n",
       "      <td>0.795510</td>\n",
       "      <td>-0.055766</td>\n",
       "      <td>0.596527</td>\n",
       "      <td>0.575664</td>\n",
       "      <td>0.933520</td>\n",
       "      <td>0.904835</td>\n",
       "      <td>0.952866</td>\n",
       "      <td>...</td>\n",
       "      <td>0.519305</td>\n",
       "      <td>-0.011602</td>\n",
       "      <td>-0.111348</td>\n",
       "      <td>-0.474353</td>\n",
       "      <td>0.661737</td>\n",
       "      <td>-0.528453</td>\n",
       "      <td>0.587671</td>\n",
       "      <td>0.938574</td>\n",
       "      <td>0.866717</td>\n",
       "      <td>0.724756</td>\n",
       "    </tr>\n",
       "    <tr>\n",
       "      <th>3</th>\n",
       "      <td>-0.019922</td>\n",
       "      <td>0.871242</td>\n",
       "      <td>0.929998</td>\n",
       "      <td>0.782397</td>\n",
       "      <td>-0.031313</td>\n",
       "      <td>0.592080</td>\n",
       "      <td>0.605888</td>\n",
       "      <td>0.932792</td>\n",
       "      <td>0.905019</td>\n",
       "      <td>0.949893</td>\n",
       "      <td>...</td>\n",
       "      <td>0.503710</td>\n",
       "      <td>-0.026666</td>\n",
       "      <td>-0.107698</td>\n",
       "      <td>-0.444224</td>\n",
       "      <td>0.666348</td>\n",
       "      <td>-0.502933</td>\n",
       "      <td>0.576432</td>\n",
       "      <td>0.932678</td>\n",
       "      <td>0.852447</td>\n",
       "      <td>0.730587</td>\n",
       "    </tr>\n",
       "    <tr>\n",
       "      <th>4</th>\n",
       "      <td>0.000663</td>\n",
       "      <td>0.864255</td>\n",
       "      <td>0.930987</td>\n",
       "      <td>0.770122</td>\n",
       "      <td>-0.009750</td>\n",
       "      <td>0.590670</td>\n",
       "      <td>0.630123</td>\n",
       "      <td>0.930317</td>\n",
       "      <td>0.904609</td>\n",
       "      <td>0.949031</td>\n",
       "      <td>...</td>\n",
       "      <td>0.488833</td>\n",
       "      <td>-0.035114</td>\n",
       "      <td>-0.115481</td>\n",
       "      <td>-0.416329</td>\n",
       "      <td>0.672844</td>\n",
       "      <td>-0.480516</td>\n",
       "      <td>0.565443</td>\n",
       "      <td>0.926892</td>\n",
       "      <td>0.839333</td>\n",
       "      <td>0.735989</td>\n",
       "    </tr>\n",
       "    <tr>\n",
       "      <th>5</th>\n",
       "      <td>0.021228</td>\n",
       "      <td>0.857182</td>\n",
       "      <td>0.930603</td>\n",
       "      <td>0.757525</td>\n",
       "      <td>0.012192</td>\n",
       "      <td>0.585708</td>\n",
       "      <td>0.651043</td>\n",
       "      <td>0.930213</td>\n",
       "      <td>0.903485</td>\n",
       "      <td>0.948170</td>\n",
       "      <td>...</td>\n",
       "      <td>0.476210</td>\n",
       "      <td>-0.051187</td>\n",
       "      <td>-0.124605</td>\n",
       "      <td>-0.389277</td>\n",
       "      <td>0.679227</td>\n",
       "      <td>-0.460034</td>\n",
       "      <td>0.551231</td>\n",
       "      <td>0.920254</td>\n",
       "      <td>0.825540</td>\n",
       "      <td>0.740268</td>\n",
       "    </tr>\n",
       "    <tr>\n",
       "      <th>6</th>\n",
       "      <td>0.034666</td>\n",
       "      <td>0.850437</td>\n",
       "      <td>0.930091</td>\n",
       "      <td>0.744101</td>\n",
       "      <td>0.038356</td>\n",
       "      <td>0.580200</td>\n",
       "      <td>0.668990</td>\n",
       "      <td>0.927290</td>\n",
       "      <td>0.904482</td>\n",
       "      <td>0.946586</td>\n",
       "      <td>...</td>\n",
       "      <td>0.457358</td>\n",
       "      <td>-0.067829</td>\n",
       "      <td>-0.135316</td>\n",
       "      <td>-0.363929</td>\n",
       "      <td>0.683479</td>\n",
       "      <td>-0.442669</td>\n",
       "      <td>0.534126</td>\n",
       "      <td>0.912204</td>\n",
       "      <td>0.810649</td>\n",
       "      <td>0.753098</td>\n",
       "    </tr>\n",
       "    <tr>\n",
       "      <th>7</th>\n",
       "      <td>0.047872</td>\n",
       "      <td>0.842614</td>\n",
       "      <td>0.929199</td>\n",
       "      <td>0.730153</td>\n",
       "      <td>0.069776</td>\n",
       "      <td>0.573739</td>\n",
       "      <td>0.686878</td>\n",
       "      <td>0.925011</td>\n",
       "      <td>0.905486</td>\n",
       "      <td>0.944880</td>\n",
       "      <td>...</td>\n",
       "      <td>0.436867</td>\n",
       "      <td>-0.073317</td>\n",
       "      <td>-0.152934</td>\n",
       "      <td>-0.338242</td>\n",
       "      <td>0.688793</td>\n",
       "      <td>-0.426288</td>\n",
       "      <td>0.520934</td>\n",
       "      <td>0.904279</td>\n",
       "      <td>0.795268</td>\n",
       "      <td>0.771076</td>\n",
       "    </tr>\n",
       "    <tr>\n",
       "      <th>8</th>\n",
       "      <td>0.069000</td>\n",
       "      <td>0.830828</td>\n",
       "      <td>0.925880</td>\n",
       "      <td>0.711693</td>\n",
       "      <td>0.095247</td>\n",
       "      <td>0.566041</td>\n",
       "      <td>0.705864</td>\n",
       "      <td>0.922146</td>\n",
       "      <td>0.905709</td>\n",
       "      <td>0.943098</td>\n",
       "      <td>...</td>\n",
       "      <td>0.419657</td>\n",
       "      <td>-0.086025</td>\n",
       "      <td>-0.164664</td>\n",
       "      <td>-0.307891</td>\n",
       "      <td>0.697585</td>\n",
       "      <td>-0.407064</td>\n",
       "      <td>0.508460</td>\n",
       "      <td>0.895911</td>\n",
       "      <td>0.777772</td>\n",
       "      <td>0.781808</td>\n",
       "    </tr>\n",
       "    <tr>\n",
       "      <th>9</th>\n",
       "      <td>0.089518</td>\n",
       "      <td>0.820210</td>\n",
       "      <td>0.922827</td>\n",
       "      <td>0.694609</td>\n",
       "      <td>0.123021</td>\n",
       "      <td>0.558101</td>\n",
       "      <td>0.716682</td>\n",
       "      <td>0.917238</td>\n",
       "      <td>0.908820</td>\n",
       "      <td>0.941197</td>\n",
       "      <td>...</td>\n",
       "      <td>0.404812</td>\n",
       "      <td>-0.088812</td>\n",
       "      <td>-0.185717</td>\n",
       "      <td>-0.278607</td>\n",
       "      <td>0.708175</td>\n",
       "      <td>-0.387974</td>\n",
       "      <td>0.504359</td>\n",
       "      <td>0.888597</td>\n",
       "      <td>0.762131</td>\n",
       "      <td>0.799228</td>\n",
       "    </tr>\n",
       "  </tbody>\n",
       "</table>\n",
       "<p>10 rows × 395 columns</p>\n",
       "</div>"
      ],
      "text/plain": [
       "       AAPL       XOM       IBM       CVX       WMT       JNJ        PG  \\\n",
       "0 -0.063153  0.891339  0.936141  0.822509 -0.090444  0.619970  0.541191   \n",
       "1 -0.054730  0.885233  0.931998  0.809663 -0.074247  0.606487  0.555442   \n",
       "2 -0.033214  0.878256  0.928754  0.795510 -0.055766  0.596527  0.575664   \n",
       "3 -0.019922  0.871242  0.929998  0.782397 -0.031313  0.592080  0.605888   \n",
       "4  0.000663  0.864255  0.930987  0.770122 -0.009750  0.590670  0.630123   \n",
       "5  0.021228  0.857182  0.930603  0.757525  0.012192  0.585708  0.651043   \n",
       "6  0.034666  0.850437  0.930091  0.744101  0.038356  0.580200  0.668990   \n",
       "7  0.047872  0.842614  0.929199  0.730153  0.069776  0.573739  0.686878   \n",
       "8  0.069000  0.830828  0.925880  0.711693  0.095247  0.566041  0.705864   \n",
       "9  0.089518  0.820210  0.922827  0.694609  0.123021  0.558101  0.716682   \n",
       "\n",
       "         KO      GOOG        PM  ...       PEB       PBI      VGSH      VGLT  \\\n",
       "0  0.930849  0.907249  0.960726  ...  0.557635  0.036532 -0.123869 -0.533141   \n",
       "1  0.932963  0.905144  0.956690  ...  0.537890  0.008744 -0.119888 -0.507209   \n",
       "2  0.933520  0.904835  0.952866  ...  0.519305 -0.011602 -0.111348 -0.474353   \n",
       "3  0.932792  0.905019  0.949893  ...  0.503710 -0.026666 -0.107698 -0.444224   \n",
       "4  0.930317  0.904609  0.949031  ...  0.488833 -0.035114 -0.115481 -0.416329   \n",
       "5  0.930213  0.903485  0.948170  ...  0.476210 -0.051187 -0.124605 -0.389277   \n",
       "6  0.927290  0.904482  0.946586  ...  0.457358 -0.067829 -0.135316 -0.363929   \n",
       "7  0.925011  0.905486  0.944880  ...  0.436867 -0.073317 -0.152934 -0.338242   \n",
       "8  0.922146  0.905709  0.943098  ...  0.419657 -0.086025 -0.164664 -0.307891   \n",
       "9  0.917238  0.908820  0.941197  ...  0.404812 -0.088812 -0.185717 -0.278607   \n",
       "\n",
       "       VONG      VGIT      VTWO      VONV       LNC       BMY  \n",
       "0  0.657700 -0.568953  0.617136  0.955027  0.898562  0.717602  \n",
       "1  0.656598 -0.552496  0.602434  0.946726  0.883468  0.719018  \n",
       "2  0.661737 -0.528453  0.587671  0.938574  0.866717  0.724756  \n",
       "3  0.666348 -0.502933  0.576432  0.932678  0.852447  0.730587  \n",
       "4  0.672844 -0.480516  0.565443  0.926892  0.839333  0.735989  \n",
       "5  0.679227 -0.460034  0.551231  0.920254  0.825540  0.740268  \n",
       "6  0.683479 -0.442669  0.534126  0.912204  0.810649  0.753098  \n",
       "7  0.688793 -0.426288  0.520934  0.904279  0.795268  0.771076  \n",
       "8  0.697585 -0.407064  0.508460  0.895911  0.777772  0.781808  \n",
       "9  0.708175 -0.387974  0.504359  0.888597  0.762131  0.799228  \n",
       "\n",
       "[10 rows x 395 columns]"
      ]
     },
     "execution_count": 168,
     "metadata": {},
     "output_type": "execute_result"
    }
   ],
   "source": [
    "# lagged_correlation"
   ]
  },
  {
   "cell_type": "code",
   "execution_count": 473,
   "id": "backed-cassette",
   "metadata": {},
   "outputs": [
    {
     "data": {
      "application/vnd.jupyter.widget-view+json": {
       "model_id": "64a268b8126c4f6c94a56bf0e96a1165",
       "version_major": 2,
       "version_minor": 0
      },
      "text/plain": [
       "Offsets:   0%|          | 0/1 [00:00<?, ?it/s]"
      ]
     },
     "metadata": {},
     "output_type": "display_data"
    },
    {
     "data": {
      "application/vnd.jupyter.widget-view+json": {
       "model_id": "679bae6847a743ccaf8ae24c7f7c9494",
       "version_major": 2,
       "version_minor": 0
      },
      "text/plain": [
       "Stocks at offset 7:   0%|          | 0/402 [00:00<?, ?it/s]"
      ]
     },
     "metadata": {},
     "output_type": "display_data"
    },
    {
     "name": "stdout",
     "output_type": "stream",
     "text": [
      "New top-10 at offset 7: AAPL & VAL --> 0.1008077431729057\n",
      "New top-10 at offset 7: GOOG & ACE --> 0.10038115257594184\n",
      "New top-10 at offset 7: ABT & VAL --> 0.14408168648969066\n",
      "New top-10 at offset 7: MCD & VAL --> 0.10554627563806918\n",
      "New top-10 at offset 7: SLB & CYT --> 0.11857038754560924\n",
      "New top-10 at offset 7: RY & HBANP --> 0.14606795991037572\n",
      "New top-10 at offset 7: HD & ACE --> 0.1316342912782925\n",
      "New top-10 at offset 7: CAT & HBANP --> 0.1253678632626025\n",
      "New top-10 at offset 7: BA & ACE --> 0.1840354665153373\n",
      "New top-10 at offset 7: UNP & ACE --> 0.14628726092261135\n",
      "New top-10 at offset 7: GS & ATHN --> 0.14720310689947044\n",
      "New top-10 at offset 7: EPD & ACE --> 0.16275197377252418\n",
      "New top-10 at offset 7: BMO & HBANP --> 0.13526043811411645\n",
      "New top-10 at offset 7: BIDU & ACE --> 0.177694950361466\n",
      "New top-10 at offset 7: PNC & ATHN --> 0.2082540559199896\n",
      "New top-10 at offset 7: DE & CYT --> 0.14184972713852517\n",
      "New top-10 at offset 7: NOV & ATHN --> 0.1354723091526334\n",
      "New top-10 at offset 7: LMT & ACE --> 0.15566611045733994\n",
      "New top-10 at offset 7: ACE & DIN --> 0.19268978983044088\n",
      "New top-10 at offset 7: GD & ACE --> 0.17132417941237524\n",
      "New top-10 at offset 7: PSA & ACE --> 0.1556893346269385\n",
      "New top-10 at offset 7: ISRG & VAL --> 0.15791939729308846\n",
      "New top-10 at offset 7: CRM & VAL --> 0.18661344247400524\n",
      "New top-10 at offset 7: CMI & HBANP --> 0.1584779501669276\n",
      "New top-10 at offset 7: SYK & VAL --> 0.25779442644426664\n",
      "New top-10 at offset 7: TMO & VAL --> 0.17717818328520443\n",
      "New top-10 at offset 7: CME & HBANP --> 0.1836154801735814\n",
      "New top-10 at offset 7: VTR & VAL --> 0.20439954721883746\n",
      "New top-10 at offset 7: CMG & VAL --> 0.1942333076070726\n",
      "New top-10 at offset 7: CP & CYT --> 0.2454527371100463\n",
      "New top-10 at offset 7: DLTR & CYT --> 0.2876508182737269\n",
      "New top-10 at offset 7: ICE & ACE --> 0.21278273657650815\n",
      "New top-10 at offset 7: CLF & CYT --> 0.1844403263057891\n",
      "New top-10 at offset 7: FOSL & ACE --> 0.24081773077428814\n",
      "New top-10 at offset 7: DLR & VAL --> 0.18781814018896267\n",
      "New top-10 at offset 7: NTES & VAL --> 0.21094564655613382\n",
      "New top-10 at offset 7: HSIC & ACE --> 0.19588016990877147\n",
      "New top-10 at offset 7: TDG & HBANP --> 0.23961460386989383\n",
      "New top-10 at offset 7: ADS & ATHN --> 0.23633119066016486\n",
      "New top-10 at offset 7: ALV & HBANP --> 0.23657944651726495\n",
      "New top-10 at offset 7: SUN & CYT --> 0.28525716715452415\n",
      "New top-10 at offset 7: VAL & DVA --> 0.2162535160663495\n",
      "New top-10 at offset 7: NFLX & VAL --> 0.22992514787787954\n",
      "New top-10 at offset 7: UA & ACE --> 0.243403011185459\n",
      "New top-10 at offset 7: TGI & HBANP --> 0.25872246354838424\n",
      "New top-10 at offset 7: CYT & NGG --> 0.4054294423564019\n",
      "New top-10 at offset 7: AWH & HBANP --> 0.2687813162856686\n",
      "New top-10 at offset 7: CPA & ACE --> 0.24992134736036842\n",
      "New top-10 at offset 7: TECH & VAL --> 0.2516100180550555\n",
      "New top-10 at offset 7: HAE & VAL --> 0.2536277855156505\n",
      "New top-10 at offset 7: COHR & VAL --> 0.2828746535900576\n"
     ]
    }
   ],
   "source": [
    "# Warning: Gathering weekly correlations on every single stock in our data set is quite costly, this will take (30s/stock * 402stocks * 1 min/60s * 1hr/60m* 3 different offsets =) 10.05 hours to run\n",
    "# I will let this go over night. The goal here is to really do a deep, heavy analysis on many combinations of pairs in the stock market to see if there is any correlation\n",
    "# This may seem slow, but I am super grateful that computers can churn through this data. I, on the other hand, can go and get some rest. See you in the morning!\n",
    "\n",
    "threshold = 0.1\n",
    "offsets = [1, 3, 7]\n",
    "offsets = [7]\n",
    "row_names = ['Ticker 1', 'Ticker 2', 'Corr']\n",
    "row_names = [str(i+1)+\"-\"+name for i in range(10) for name in row_names]\n",
    "max_pair = pd.DataFrame(np.zeros(( len(row_names), len(offsets))), row_names, offsets)\n",
    "\n",
    "# Inserts a pair into the sorted max_pair\n",
    "def insert(t1, t2, val, offset=7):\n",
    "    assert(val > max_pair[offset]['10-Corr'])\n",
    "    found = False\n",
    "    last_pair, curr_pair = None, None\n",
    "    for i, v in enumerate(max_pair[offset]):\n",
    "        if i%3 != 2:\n",
    "            continue\n",
    "        if not found and (type(v) == float and val < v):\n",
    "            continue\n",
    "        elif type(v) == float or type(v) == np.float64:\n",
    "            found = True\n",
    "            curr_pair = [max_pair[offset][str((i // 3)+1)+\"-Ticker 1\"],\n",
    "                        max_pair[offset][str((i // 3)+1)+\"-Ticker 2\"],\n",
    "                        max_pair[offset][str((i // 3)+1)+\"-Corr\"]]\n",
    "            \n",
    "            # First time insert t1, t2, val\n",
    "            if not last_pair:\n",
    "                max_pair[offset][str((i // 3)+1)+\"-Ticker 1\"] = t1\n",
    "                max_pair[offset][str((i // 3)+1)+\"-Ticker 2\"] = t2\n",
    "                max_pair[offset][str((i // 3)+1)+\"-Corr\"] = val\n",
    "            else:\n",
    "                max_pair[offset][str((i // 3)+1)+\"-Ticker 1\"] = last_pair[0]\n",
    "                max_pair[offset][str((i // 3)+1)+\"-Ticker 2\"] = last_pair[1]\n",
    "                max_pair[offset][str((i // 3)+1)+\"-Corr\"] = last_pair[2]\n",
    "            \n",
    "            last_pair = curr_pair\n",
    "\n",
    "for offset in tqdm(offsets, position=0, desc=\"Offsets\"):\n",
    "    for stock in tqdm(all_stock_df, position=1, desc=\"Stocks at offset \" + str(offset), total=all_stock_df.shape[1]):\n",
    "        \n",
    "        # Get the correlation for this offset\n",
    "        _, stock_corr = get_corr(stock, all_stock_df, offset=offset)\n",
    "        \n",
    "        # Filter to only show very high (anti-)correlation\n",
    "        k = stock_corr[abs(stock_corr) > threshold]\n",
    "        \n",
    "        try:\n",
    "            # Remove correlation with itself w/o in-place drop\n",
    "            k = k.drop(stock, axis=0)\n",
    "        except:\n",
    "            pass\n",
    "            print(\"Error with {}. Data may be missing/not listed.\".format(stock))\n",
    "    \n",
    "        # This stock only has a high correlation with itself\n",
    "        if len(k) == 0:\n",
    "            continue\n",
    "\n",
    "        if k.any() and len(k) > 1:\n",
    "#             print(k.to_frame().T)\n",
    "#             print('------------------------------------')\n",
    "\n",
    "            # Makes the top 10\n",
    "            if k.max() > max_pair[offset]['10-Corr']:\n",
    "#                 max_pair[offset] = [stock, k.idxmax(), k.max()]\n",
    "                insert(stock, k.idxmax(), k.max(), offset)\n",
    "                print(\"New top-10 at offset {}: {} & {} --> {}, New min: {}, New max: {}\".format(offset, stock, k.idxmax(), k.max(), max_pair[offset]['10-Corr'], max_pair[offset]['1-Corr']))\n",
    "                \n",
    "        \n",
    "# New max at offset 5: RY & HBANP --> 0.158891285615675\n",
    "# New max at offset 5: AMGN & ATHN --> 0.18920894382798814\n",
    "# New max at offset 5: MA & CYT --> 0.21530355134336604\n",
    "# New max at offset 5: NKE & CYT --> 0.2298681444224861\n",
    "# New max at offset 5: YUM & CYT --> 0.2416256431854256\n",
    "# New max at offset 5: SYK & CYT --> 0.3598651556977396 # Problem with this one, although it has decent correlation, is that it is so new to the stock market (only 6 months) and is therefore an unfair estimate\n",
    "\n",
    "# So, I went ahead and built my own max_pair structure to hold the top 10 pairs, then constructed a basic sorted insert function to make things easier to see.\n",
    "# Hopefully, this will do the job of including the important correlations without being overthrown by small extraneous stocks\n"
   ]
  },
  {
   "cell_type": "code",
   "execution_count": 493,
   "id": "built-exclusion",
   "metadata": {},
   "outputs": [
    {
     "data": {
      "text/html": [
       "<div>\n",
       "<style scoped>\n",
       "    .dataframe tbody tr th:only-of-type {\n",
       "        vertical-align: middle;\n",
       "    }\n",
       "\n",
       "    .dataframe tbody tr th {\n",
       "        vertical-align: top;\n",
       "    }\n",
       "\n",
       "    .dataframe thead th {\n",
       "        text-align: right;\n",
       "    }\n",
       "</style>\n",
       "<table border=\"1\" class=\"dataframe\">\n",
       "  <thead>\n",
       "    <tr style=\"text-align: right;\">\n",
       "      <th></th>\n",
       "      <th>7</th>\n",
       "    </tr>\n",
       "  </thead>\n",
       "  <tbody>\n",
       "    <tr>\n",
       "      <th>1-Ticker 1</th>\n",
       "      <td>CYT</td>\n",
       "    </tr>\n",
       "    <tr>\n",
       "      <th>1-Ticker 2</th>\n",
       "      <td>NGG</td>\n",
       "    </tr>\n",
       "    <tr>\n",
       "      <th>1-Corr</th>\n",
       "      <td>0.405429</td>\n",
       "    </tr>\n",
       "    <tr>\n",
       "      <th>2-Ticker 1</th>\n",
       "      <td>DLTR</td>\n",
       "    </tr>\n",
       "    <tr>\n",
       "      <th>2-Ticker 2</th>\n",
       "      <td>CYT</td>\n",
       "    </tr>\n",
       "    <tr>\n",
       "      <th>2-Corr</th>\n",
       "      <td>0.287651</td>\n",
       "    </tr>\n",
       "    <tr>\n",
       "      <th>3-Ticker 1</th>\n",
       "      <td>SUN</td>\n",
       "    </tr>\n",
       "    <tr>\n",
       "      <th>3-Ticker 2</th>\n",
       "      <td>CYT</td>\n",
       "    </tr>\n",
       "    <tr>\n",
       "      <th>3-Corr</th>\n",
       "      <td>0.285257</td>\n",
       "    </tr>\n",
       "    <tr>\n",
       "      <th>4-Ticker 1</th>\n",
       "      <td>COHR</td>\n",
       "    </tr>\n",
       "    <tr>\n",
       "      <th>4-Ticker 2</th>\n",
       "      <td>VAL</td>\n",
       "    </tr>\n",
       "    <tr>\n",
       "      <th>4-Corr</th>\n",
       "      <td>0.282875</td>\n",
       "    </tr>\n",
       "    <tr>\n",
       "      <th>5-Ticker 1</th>\n",
       "      <td>AWH</td>\n",
       "    </tr>\n",
       "    <tr>\n",
       "      <th>5-Ticker 2</th>\n",
       "      <td>HBANP</td>\n",
       "    </tr>\n",
       "    <tr>\n",
       "      <th>5-Corr</th>\n",
       "      <td>0.268781</td>\n",
       "    </tr>\n",
       "    <tr>\n",
       "      <th>6-Ticker 1</th>\n",
       "      <td>TGI</td>\n",
       "    </tr>\n",
       "    <tr>\n",
       "      <th>6-Ticker 2</th>\n",
       "      <td>HBANP</td>\n",
       "    </tr>\n",
       "    <tr>\n",
       "      <th>6-Corr</th>\n",
       "      <td>0.258722</td>\n",
       "    </tr>\n",
       "    <tr>\n",
       "      <th>7-Ticker 1</th>\n",
       "      <td>SYK</td>\n",
       "    </tr>\n",
       "    <tr>\n",
       "      <th>7-Ticker 2</th>\n",
       "      <td>VAL</td>\n",
       "    </tr>\n",
       "    <tr>\n",
       "      <th>7-Corr</th>\n",
       "      <td>0.257794</td>\n",
       "    </tr>\n",
       "    <tr>\n",
       "      <th>8-Ticker 1</th>\n",
       "      <td>HAE</td>\n",
       "    </tr>\n",
       "    <tr>\n",
       "      <th>8-Ticker 2</th>\n",
       "      <td>VAL</td>\n",
       "    </tr>\n",
       "    <tr>\n",
       "      <th>8-Corr</th>\n",
       "      <td>0.253628</td>\n",
       "    </tr>\n",
       "    <tr>\n",
       "      <th>9-Ticker 1</th>\n",
       "      <td>TECH</td>\n",
       "    </tr>\n",
       "    <tr>\n",
       "      <th>9-Ticker 2</th>\n",
       "      <td>VAL</td>\n",
       "    </tr>\n",
       "    <tr>\n",
       "      <th>9-Corr</th>\n",
       "      <td>0.25161</td>\n",
       "    </tr>\n",
       "    <tr>\n",
       "      <th>10-Ticker 1</th>\n",
       "      <td>CPA</td>\n",
       "    </tr>\n",
       "    <tr>\n",
       "      <th>10-Ticker 2</th>\n",
       "      <td>ACE</td>\n",
       "    </tr>\n",
       "    <tr>\n",
       "      <th>10-Corr</th>\n",
       "      <td>0.249921</td>\n",
       "    </tr>\n",
       "  </tbody>\n",
       "</table>\n",
       "</div>"
      ],
      "text/plain": [
       "                    7\n",
       "1-Ticker 1        CYT\n",
       "1-Ticker 2        NGG\n",
       "1-Corr       0.405429\n",
       "2-Ticker 1       DLTR\n",
       "2-Ticker 2        CYT\n",
       "2-Corr       0.287651\n",
       "3-Ticker 1        SUN\n",
       "3-Ticker 2        CYT\n",
       "3-Corr       0.285257\n",
       "4-Ticker 1       COHR\n",
       "4-Ticker 2        VAL\n",
       "4-Corr       0.282875\n",
       "5-Ticker 1        AWH\n",
       "5-Ticker 2      HBANP\n",
       "5-Corr       0.268781\n",
       "6-Ticker 1        TGI\n",
       "6-Ticker 2      HBANP\n",
       "6-Corr       0.258722\n",
       "7-Ticker 1        SYK\n",
       "7-Ticker 2        VAL\n",
       "7-Corr       0.257794\n",
       "8-Ticker 1        HAE\n",
       "8-Ticker 2        VAL\n",
       "8-Corr       0.253628\n",
       "9-Ticker 1       TECH\n",
       "9-Ticker 2        VAL\n",
       "9-Corr        0.25161\n",
       "10-Ticker 1       CPA\n",
       "10-Ticker 2       ACE\n",
       "10-Corr      0.249921"
      ]
     },
     "execution_count": 493,
     "metadata": {},
     "output_type": "execute_result"
    }
   ],
   "source": [
    "max_pair"
   ]
  },
  {
   "cell_type": "code",
   "execution_count": 133,
   "id": "progressive-presence",
   "metadata": {},
   "outputs": [],
   "source": [
    "# Generate a little heatmap of the most correlated stocks. It is almost meaningless since it's already sorted, but it's just for fun!\n",
    "def show_heatmap(data):\n",
    "    return sbn.heatmap(data)"
   ]
  },
  {
   "cell_type": "markdown",
   "id": "downtown-liver",
   "metadata": {},
   "source": [
    "## Visualizing the correlation\n",
    "The computer is quick to compute a super-strong correlation. Does this mean that the stock moves together with our offset? Did I have messed up somewhere along the process? Or do I not understand Pearson Correlation efficients as well as I thought?\n",
    "\n",
    "The best way to find out is to see the correlation for ourselves!"
   ]
  },
  {
   "cell_type": "code",
   "execution_count": 503,
   "id": "naked-purchase",
   "metadata": {},
   "outputs": [],
   "source": [
    "# Let's start by looking at our 7 day offset\n",
    "\n",
    "# Regather the offset data\n",
    "offset_data, stock_corr = get_corr(max_pair[7]['1-Ticker 1'], all_stock_df, offset=offset)"
   ]
  },
  {
   "cell_type": "code",
   "execution_count": 478,
   "id": "polish-values",
   "metadata": {},
   "outputs": [
    {
     "data": {
      "text/plain": [
       "0.4054294423564019"
      ]
     },
     "execution_count": 478,
     "metadata": {},
     "output_type": "execute_result"
    }
   ],
   "source": [
    "stock_corr[max_pair[7]['1-Ticker 2']]"
   ]
  },
  {
   "cell_type": "markdown",
   "id": "motivated-leadership",
   "metadata": {},
   "source": [
    "A correlation of 0.4 is pretty high for the stock market, but keep in mind that the data is fairly limited for CYT and thus is not the most fair estimate.We notice the same thing with VAL and HBANP. Unfortunately, at this point, we will try to train with one of these pairs, but in the future, one thing I would've liked to change knowing this is the minute-breakdowns of data so that the model would have more to train on.\n",
    "\n",
    "With that said, VAL and HBANP have been around since for at least 6 months, so we will train off of that data"
   ]
  },
  {
   "cell_type": "code",
   "execution_count": 504,
   "id": "presidential-pennsylvania",
   "metadata": {},
   "outputs": [
    {
     "data": {
      "text/plain": [
       "('COHR', 'VAL', 0.2828746535900576)"
      ]
     },
     "execution_count": 504,
     "metadata": {},
     "output_type": "execute_result"
    }
   ],
   "source": [
    "max_pair[7]['4-Ticker 1'], max_pair[7]['4-Ticker 2'], max_pair[7]['4-Corr']"
   ]
  },
  {
   "cell_type": "code",
   "execution_count": 498,
   "id": "weekly-annotation",
   "metadata": {},
   "outputs": [
    {
     "name": "stdout",
     "output_type": "stream",
     "text": [
      "CPA\n"
     ]
    },
    {
     "data": {
      "text/plain": [
       "Date\n",
       "1990-01-17          NaN\n",
       "1990-01-18          NaN\n",
       "1990-01-19          NaN\n",
       "1990-01-22          NaN\n",
       "1990-01-23          NaN\n",
       "                ...    \n",
       "2021-09-24    78.279999\n",
       "2021-09-27    79.320000\n",
       "2021-09-28    78.690002\n",
       "2021-09-29    79.019997\n",
       "2021-09-30    79.180000\n",
       "Name: CPA, Length: 7983, dtype: float64"
      ]
     },
     "execution_count": 498,
     "metadata": {},
     "output_type": "execute_result"
    }
   ],
   "source": [
    "offset_data, stock_corr = get_corr(max_pair[7]['4-Ticker 1'], all_stock_df, offset=offset)"
   ]
  },
  {
   "cell_type": "code",
   "execution_count": 505,
   "id": "acute-composite",
   "metadata": {},
   "outputs": [
    {
     "name": "stdout",
     "output_type": "stream",
     "text": [
      "COHR\n"
     ]
    },
    {
     "data": {
      "text/plain": [
       "Date\n",
       "2021-09-16    32.000000\n",
       "2021-09-17    31.330000\n",
       "2021-09-20    30.719999\n",
       "2021-09-21    31.469999\n",
       "2021-09-22    32.450001\n",
       "2021-09-23    33.930000\n",
       "2021-09-24    34.070000\n",
       "2021-09-27    34.700001\n",
       "2021-09-28    34.900002\n",
       "2021-09-29    34.270000\n",
       "2021-09-30    34.880001\n",
       "Name: VAL, dtype: float64"
      ]
     },
     "execution_count": 505,
     "metadata": {},
     "output_type": "execute_result"
    }
   ],
   "source": [
    "print(max_pair[7]['4-Ticker 1'])\n",
    "offset_data[max_pair[7]['4-Ticker 2']][-11:]"
   ]
  },
  {
   "cell_type": "code",
   "execution_count": null,
   "id": "crude-charge",
   "metadata": {},
   "outputs": [],
   "source": [
    "# stock_corr.style.background_gradient(cmap='coolwarm')"
   ]
  },
  {
   "cell_type": "code",
   "execution_count": 509,
   "id": "liquid-chocolate",
   "metadata": {},
   "outputs": [
    {
     "data": {
      "text/plain": [
       "(18727.0, 18941.0)"
      ]
     },
     "execution_count": 509,
     "metadata": {},
     "output_type": "execute_result"
    },
    {
     "data": {
      "image/png": "[encoded data removed]",
      "text/plain": [
       "<Figure size 432x288 with 1 Axes>"
      ]
     },
     "metadata": {
      "needs_background": "light"
     },
     "output_type": "display_data"
    }
   ],
   "source": [
    "n = 4\n",
    "plt.plot(offset_data[max_pair[7][str(n)+'-Ticker 1']], color='orange', linewidth=3.0)\n",
    "plt.plot(all_stock_df[max_pair[7][str(n)+'-Ticker 1']], color='k', linewidth=1.0)\n",
    "plt.plot(offset_data[max_pair[7][str(n)+'-Ticker 2']], color='b', linewidth=3.0)\n",
    "plt.legend([max_pair[7][str(n)+'-Ticker 1'] + ' (offset)', max_pair[7][str(n)+'-Ticker 1'] + ' (no offset)', max_pair[7][str(n)+'-Ticker 2']])\n",
    "plt.xlim(date(2021,4,10), date(2021,11,10))"
   ]
  },
  {
   "cell_type": "markdown",
   "id": "laden-phrase",
   "metadata": {},
   "source": [
    "## 3. Gather takeaways and export data for model"
   ]
  },
  {
   "cell_type": "markdown",
   "id": "german-blade",
   "metadata": {},
   "source": [
    "So... what do we know at this point? From our original broad pearson correlation data, we noticed that some of our highest offset correlations are all from banks. Hmph. This can be a bit aggravating, and I was considering removing all bank stocks from my dataset since banks tend to move together and with the rest of the market. However, truthfully this fact does not matter, if it happens to have a high offset correlation, perhaps it is the case that bank stocks have a repeated pattern.\n",
    "\n",
    "For example, since this is a 7 day offset that we are looking at, we might hypothesize that bank stocks mirror the following pattern:\n",
    "- Mondays: bank stocks go up.\n",
    "- Tuesdays: bank stocks go up more.\n",
    "- Wednesday: bank stocks go down.\n",
    "- Thursday: bank stocks go down.\n",
    "- Friday: bank stocks go up.\n",
    "\n",
    "If this is the case, then perhaps it could explain why the Royal Bank of Canada (RY) and the Bank of Montreal (BMO) have such similar 7-day offset correlations... it would thus follow that RY also has high correlation with itself in a 7-day offset. In fact, let's prove this true or false because now I'm curious!"
   ]
  },
  {
   "cell_type": "code",
   "execution_count": 222,
   "id": "pressed-begin",
   "metadata": {},
   "outputs": [],
   "source": [
    "# copy = all_stock_df.copy()\n",
    "# ry_data = copy['RY'].to_frame()\n",
    "# ry_data[\"RY +7\"] = ry_data['RY'].shift(periods=7)\n",
    "# ry_corr = ry_data.corr()"
   ]
  },
  {
   "cell_type": "code",
   "execution_count": 223,
   "id": "suffering-government",
   "metadata": {},
   "outputs": [
    {
     "data": {
      "text/html": [
       "<div>\n",
       "<style scoped>\n",
       "    .dataframe tbody tr th:only-of-type {\n",
       "        vertical-align: middle;\n",
       "    }\n",
       "\n",
       "    .dataframe tbody tr th {\n",
       "        vertical-align: top;\n",
       "    }\n",
       "\n",
       "    .dataframe thead th {\n",
       "        text-align: right;\n",
       "    }\n",
       "</style>\n",
       "<table border=\"1\" class=\"dataframe\">\n",
       "  <thead>\n",
       "    <tr style=\"text-align: right;\">\n",
       "      <th></th>\n",
       "      <th>RY</th>\n",
       "      <th>RY +7</th>\n",
       "    </tr>\n",
       "  </thead>\n",
       "  <tbody>\n",
       "    <tr>\n",
       "      <th>RY</th>\n",
       "      <td>1.000000</td>\n",
       "      <td>0.962995</td>\n",
       "    </tr>\n",
       "    <tr>\n",
       "      <th>RY +7</th>\n",
       "      <td>0.962995</td>\n",
       "      <td>1.000000</td>\n",
       "    </tr>\n",
       "  </tbody>\n",
       "</table>\n",
       "</div>"
      ],
      "text/plain": [
       "             RY     RY +7\n",
       "RY     1.000000  0.962995\n",
       "RY +7  0.962995  1.000000"
      ]
     },
     "execution_count": 223,
     "metadata": {},
     "output_type": "execute_result"
    }
   ],
   "source": [
    "# ry_corr"
   ]
  },
  {
   "cell_type": "code",
   "execution_count": 229,
   "id": "protecting-germany",
   "metadata": {},
   "outputs": [
    {
     "data": {
      "text/plain": [
       "<matplotlib.legend.Legend at 0x7f63df553850>"
      ]
     },
     "execution_count": 229,
     "metadata": {},
     "output_type": "execute_result"
    },
    {
     "data": {
      "image/png": "[encoded data removed]",
      "text/plain": [
       "<Figure size 432x288 with 1 Axes>"
      ]
     },
     "metadata": {
      "needs_background": "light"
     },
     "output_type": "display_data"
    }
   ],
   "source": [
    "# plt.plot(ry_data['RY +7'], color='orange', linewidth=3.0)\n",
    "# plt.plot(ry_data['RY'], color='k', linewidth=1.0)\n",
    "# plt.xlim(date(2021,1,3), date(2021,1,20))#date(2021,4,10), date(2021,6,10))\n",
    "# plt.legend(['RY (offset)', 'RY (no offset)'])"
   ]
  },
  {
   "cell_type": "markdown",
   "id": "funky-deadline",
   "metadata": {},
   "source": [
    "Interesting... so maybe there was a weekly pattern to bank stocks after all. In any event, if there's correlation, there's correlation! We would see if we can train a model to predict its current movement based on correlation and previous data. However, we fixed our correlations to make it look at the weekly changes. Thus, we go to the limited data we have."
   ]
  },
  {
   "cell_type": "markdown",
   "id": "uniform-swaziland",
   "metadata": {},
   "source": [
    "#### (Removed) Let's explore the industry/sector of the highly correlated stocks"
   ]
  },
  {
   "cell_type": "code",
   "execution_count": 18,
   "id": "wrapped-breakdown",
   "metadata": {},
   "outputs": [
    {
     "name": "stdout",
     "output_type": "stream",
     "text": [
      "Industry: Technology\n"
     ]
    }
   ],
   "source": [
    "# for stock in all_stock_df:\n",
    "#     t = yfinance.Ticker(stock)\n",
    "#     print(\"Ticker:\", stock, \"Industry:\", t.info[\"sector\"])\n",
    "#     break"
   ]
  },
  {
   "cell_type": "markdown",
   "id": "second-classic",
   "metadata": {},
   "source": [
    "#### Collect stats on our pairs to further investigate possible pairs"
   ]
  },
  {
   "cell_type": "code",
   "execution_count": null,
   "id": "beneficial-feedback",
   "metadata": {},
   "outputs": [],
   "source": [
    "# First, we need to have a dictionary/2d array which can list all possible pairs\n",
    "# Then, we can calculate the ratios to all these stocks for each day\n",
    "ratios = stock_1['CLOSE'] / stock_2['CLOSE']"
   ]
  },
  {
   "cell_type": "markdown",
   "id": "solved-harvard",
   "metadata": {},
   "source": [
    "Finally, with these statistics calculated, the last bit of information we want to add to our feature space will be social media sentiment. Will these correlated stocks have early warning indicators from social media? That's what we aim to find out!"
   ]
  },
  {
   "cell_type": "code",
   "execution_count": null,
   "id": "german-mouth",
   "metadata": {},
   "outputs": [],
   "source": []
  }
 ],
 "metadata": {
  "kernelspec": {
   "display_name": "Python 3",
   "language": "python",
   "name": "python3"
  },
  "language_info": {
   "codemirror_mode": {
    "name": "ipython",
    "version": 3
   },
   "file_extension": ".py",
   "mimetype": "text/x-python",
   "name": "python",
   "nbconvert_exporter": "python",
   "pygments_lexer": "ipython3",
   "version": "3.8.6"
  }
 },
 "nbformat": 4,
 "nbformat_minor": 5
}
