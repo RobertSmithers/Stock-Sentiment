{
 "cells": [
  {
   "cell_type": "markdown",
   "id": "ambient-intro",
   "metadata": {},
   "source": [
    "# Options Data\n",
    "This file attempts to gather data on options history for every stock we are looking at\n",
    "\n",
    "Ideally, we would get the options data (buy/sell prices and amounts), but sadly I did not have time to gather this and work it into the model."
   ]
  },
  {
   "cell_type": "code",
   "execution_count": 3,
   "id": "regulated-employment",
   "metadata": {},
   "outputs": [],
   "source": [
    "from datetime import date\n",
    "from nsepy import get_history\n",
    "import matplotlib.pyplot as plt"
   ]
  },
  {
   "cell_type": "code",
   "execution_count": null,
   "id": "verbal-consumer",
   "metadata": {},
   "outputs": [],
   "source": [
    "stock_opt = get_history(symbol=\"HDFC\",\n",
    " start=date(2019, 1, 15),\n",
    " end=date(2019, 2, 1),\n",
    " option_type=\"CE\", #'CE' = call, 'PE' = put\n",
    " strike_price=2000,\n",
    " expiry_date=date(2019, 2, 28))\n",
    "stock_opt.head()"
   ]
  },
  {
   "cell_type": "code",
   "execution_count": null,
   "id": "balanced-china",
   "metadata": {},
   "outputs": [],
   "source": [
    "stock_opt.Close.plot(figsize=(10, 5))\n",
    "# Define the label for the title of the figure\n",
    "plt.title(\"Close Price\", fontsize=16)\n",
    "# Define the labels for x-axis and y-axis\n",
    "plt.ylabel('Price', fontsize=14)\n",
    "plt.xlabel('Date', fontsize=14)\n",
    "# Plot the grid lines\n",
    "plt.grid(which=\"major\", color='k', linestyle='-.', linewidth=0.5)\n",
    "plt.show()"
   ]
  }
 ],
 "metadata": {
  "kernelspec": {
   "display_name": "Python 3",
   "language": "python",
   "name": "python3"
  },
  "language_info": {
   "codemirror_mode": {
    "name": "ipython",
    "version": 3
   },
   "file_extension": ".py",
   "mimetype": "text/x-python",
   "name": "python",
   "nbconvert_exporter": "python",
   "pygments_lexer": "ipython3",
   "version": "3.8.6"
  }
 },
 "nbformat": 4,
 "nbformat_minor": 5
}
